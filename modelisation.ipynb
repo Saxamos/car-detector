{
 "cells": [
  {
   "cell_type": "code",
   "execution_count": 12,
   "metadata": {},
   "outputs": [],
   "source": [
    "import tensorflow as tf\n",
    "import numpy as np\n",
    "import matplotlib.pyplot as plt\n",
    "from PIL import Image"
   ]
  },
  {
   "cell_type": "code",
   "execution_count": 13,
   "metadata": {},
   "outputs": [
    {
     "data": {
      "image/png": "[encoded data removed]",
      "text/plain": [
       "<Figure size 432x288 with 1 Axes>"
      ]
     },
     "metadata": {
      "needs_background": "light"
     },
     "output_type": "display_data"
    }
   ],
   "source": [
    "plt.imshow(Image.open('./data/car_train_data/car/102.jpg'));"
   ]
  },
  {
   "cell_type": "code",
   "execution_count": 14,
   "metadata": {},
   "outputs": [
    {
     "name": "stdout",
     "output_type": "stream",
     "text": [
      "\u001b[1m\u001b[36mcar\u001b[m\u001b[m     \u001b[1m\u001b[36mnot_car\u001b[m\u001b[m\r\n"
     ]
    }
   ],
   "source": [
    "!ls data/car_train_data/"
   ]
  },
  {
   "cell_type": "markdown",
   "metadata": {},
   "source": [
    "# CNN"
   ]
  },
  {
   "cell_type": "code",
   "execution_count": 15,
   "metadata": {},
   "outputs": [],
   "source": [
    "classifier = tf.keras.Sequential()\n",
    "\n",
    "classifier.add(tf.keras.layers.Conv2D(32, (3 ,3), input_shape=(128, 128, 3), activation='relu'))\n",
    "classifier.add(tf.keras.layers.MaxPool2D(pool_size=(2, 2)))\n",
    "\n",
    "classifier.add(tf.keras.layers.Conv2D(20, (3, 3), activation='relu'))\n",
    "classifier.add(tf.keras.layers.MaxPool2D(pool_size=(2, 2)))\n",
    "\n",
    "classifier.add(tf.keras.layers.Conv2D(12, (3, 3), activation='relu'))\n",
    "classifier.add(tf.keras.layers.MaxPool2D(pool_size=(2, 2)))\n",
    "\n",
    "classifier.add(tf.keras.layers.Conv2D(8, (3, 3), activation='relu'))\n",
    "classifier.add(tf.keras.layers.MaxPool2D(pool_size=(2, 2)))\n",
    "\n",
    "classifier.add(tf.keras.layers.Flatten())\n",
    "\n",
    "classifier.add(tf.keras.layers.Dense(activation='relu', units=128))\n",
    "classifier.add(tf.keras.layers.Dense(activation='sigmoid', units=1))\n",
    "\n",
    "classifier.compile(optimizer='adam', loss='binary_crossentropy', metrics=['accuracy'])"
   ]
  },
  {
   "cell_type": "code",
   "execution_count": 16,
   "metadata": {},
   "outputs": [
    {
     "name": "stdout",
     "output_type": "stream",
     "text": [
      "Model: \"sequential_1\"\n",
      "_________________________________________________________________\n",
      " Layer (type)                Output Shape              Param #   \n",
      "=================================================================\n",
      " conv2d_4 (Conv2D)           (None, 126, 126, 32)      896       \n",
      "                                                                 \n",
      " max_pooling2d_4 (MaxPooling  (None, 63, 63, 32)       0         \n",
      " 2D)                                                             \n",
      "                                                                 \n",
      " conv2d_5 (Conv2D)           (None, 61, 61, 20)        5780      \n",
      "                                                                 \n",
      " max_pooling2d_5 (MaxPooling  (None, 30, 30, 20)       0         \n",
      " 2D)                                                             \n",
      "                                                                 \n",
      " conv2d_6 (Conv2D)           (None, 28, 28, 12)        2172      \n",
      "                                                                 \n",
      " max_pooling2d_6 (MaxPooling  (None, 14, 14, 12)       0         \n",
      " 2D)                                                             \n",
      "                                                                 \n",
      " conv2d_7 (Conv2D)           (None, 12, 12, 8)         872       \n",
      "                                                                 \n",
      " max_pooling2d_7 (MaxPooling  (None, 6, 6, 8)          0         \n",
      " 2D)                                                             \n",
      "                                                                 \n",
      " flatten_1 (Flatten)         (None, 288)               0         \n",
      "                                                                 \n",
      " dense_2 (Dense)             (None, 128)               36992     \n",
      "                                                                 \n",
      " dense_3 (Dense)             (None, 1)                 129       \n",
      "                                                                 \n",
      "=================================================================\n",
      "Total params: 46,841\n",
      "Trainable params: 46,841\n",
      "Non-trainable params: 0\n",
      "_________________________________________________________________\n"
     ]
    }
   ],
   "source": [
    "classifier.summary()"
   ]
  },
  {
   "cell_type": "code",
   "execution_count": 17,
   "metadata": {},
   "outputs": [
    {
     "name": "stdout",
     "output_type": "stream",
     "text": [
      "Found 131 images belonging to 2 classes.\n",
      "Found 131 images belonging to 2 classes.\n"
     ]
    }
   ],
   "source": [
    "image_size = (128,128)\n",
    "batch_size_chosen = 32\n",
    "\n",
    "train_datagen = tf.keras.preprocessing.image.ImageDataGenerator(rescale=1/255,\n",
    "                                   zoom_range=0.2,\n",
    "                                   rotation_range = 15,\n",
    "                                   horizontal_flip=True)\n",
    "train_generator = train_datagen.flow_from_directory('data/car_train_data/',\n",
    "                                                    target_size=image_size,\n",
    "                                                    batch_size=batch_size_chosen,\n",
    "                                                    class_mode='binary')\n",
    "\n",
    "test_datagen = tf.keras.preprocessing.image.ImageDataGenerator(rescale=1/255)\n",
    "validation_generator = test_datagen.flow_from_directory('data/car_test_data/',\n",
    "                                                        target_size=image_size,\n",
    "                                                        batch_size=batch_size_chosen,\n",
    "                                                        class_mode='binary')"
   ]
  },
  {
   "cell_type": "code",
   "execution_count": 18,
   "metadata": {},
   "outputs": [],
   "source": [
    "!rm -r data/logs/"
   ]
  },
  {
   "cell_type": "code",
   "execution_count": 19,
   "metadata": {},
   "outputs": [
    {
     "data": {
      "text/plain": [
       "{'car': 0, 'not_car': 1}"
      ]
     },
     "execution_count": 19,
     "metadata": {},
     "output_type": "execute_result"
    }
   ],
   "source": [
    "es = tf.keras.callbacks.EarlyStopping(monitor='val_loss',\n",
    "                                   min_delta=0,\n",
    "                                   patience=3,\n",
    "                                   verbose=1,\n",
    "                                   mode='auto',\n",
    "                                   restore_best_weights=True)\n",
    "\n",
    "ts = tf.keras.callbacks.TensorBoard(log_dir='data/logs',\n",
    "                                 histogram_freq=0,\n",
    "                                 write_graph=True,\n",
    "                                 write_grads=False,\n",
    "                                 write_images=False,\n",
    "                                 embeddings_freq=0,\n",
    "                                 embeddings_layer_names=None,\n",
    "                                 embeddings_metadata=None,\n",
    "                                 embeddings_data=None,\n",
    "                                 update_freq='epoch')\n",
    "\n",
    "train_generator.class_indices"
   ]
  },
  {
   "cell_type": "code",
   "execution_count": 20,
   "metadata": {
    "scrolled": false
   },
   "outputs": [
    {
     "name": "stderr",
     "output_type": "stream",
     "text": [
      "/var/folders/0b/2vd83sj57l759q5x6tqmpsn40000gn/T/ipykernel_305/801637673.py:1: UserWarning: `Model.fit_generator` is deprecated and will be removed in a future version. Please use `Model.fit`, which supports generators.\n",
      "  classifier.fit_generator(train_generator,\n"
     ]
    },
    {
     "name": "stdout",
     "output_type": "stream",
     "text": [
      "Epoch 1/3\n",
      "50/50 [==============================] - 24s 476ms/step - loss: 0.3488 - accuracy: 0.8870 - val_loss: 0.3128 - val_accuracy: 0.9084\n",
      "Epoch 2/3\n",
      "50/50 [==============================] - 25s 494ms/step - loss: 0.3182 - accuracy: 0.9084 - val_loss: 0.3180 - val_accuracy: 0.9084\n",
      "Epoch 3/3\n",
      "50/50 [==============================] - 23s 468ms/step - loss: 0.3141 - accuracy: 0.9084 - val_loss: 0.3045 - val_accuracy: 0.9084\n"
     ]
    },
    {
     "data": {
      "text/plain": [
       "<keras.callbacks.History at 0x1558f6370>"
      ]
     },
     "execution_count": 20,
     "metadata": {},
     "output_type": "execute_result"
    }
   ],
   "source": [
    "classifier.fit_generator(train_generator,\n",
    "                         steps_per_epoch=50,\n",
    "                         epochs=3,\n",
    "                         validation_data=validation_generator,\n",
    "                         validation_steps=200,\n",
    "                         workers=4,\n",
    "                         callbacks=[es, ts])"
   ]
  },
  {
   "cell_type": "code",
   "execution_count": 22,
   "metadata": {},
   "outputs": [],
   "source": [
    "classifier.save('model/model.h5')"
   ]
  },
  {
   "cell_type": "code",
   "execution_count": 24,
   "metadata": {},
   "outputs": [],
   "source": [
    "model = tf.keras.models.load_model('model/model.h5')"
   ]
  },
  {
   "cell_type": "code",
   "execution_count": 27,
   "metadata": {},
   "outputs": [
    {
     "data": {
      "image/png": "[encoded data removed]",
      "text/plain": [
       "<PIL.PngImagePlugin.PngImageFile image mode=RGBA size=555x416 at 0x156598970>"
      ]
     },
     "execution_count": 27,
     "metadata": {},
     "output_type": "execute_result"
    }
   ],
   "source": [
    "Image.open('data/car_test_data/not_car/airplane_77.jpg')"
   ]
  },
  {
   "cell_type": "code",
   "execution_count": 29,
   "metadata": {},
   "outputs": [
    {
     "data": {
      "text/plain": [
       "array([[0.89579326]], dtype=float32)"
      ]
     },
     "execution_count": 29,
     "metadata": {},
     "output_type": "execute_result"
    }
   ],
   "source": [
    "img = np.array(Image.open('data/car_test_data/not_car/airplane_77.jpg').convert('RGB').resize((128,128))).reshape(1,128,128,3)*1/255\n",
    "model.predict(img)"
   ]
  },
  {
   "cell_type": "code",
   "execution_count": 32,
   "metadata": {},
   "outputs": [
    {
     "data": {
      "text/plain": [
       "array([[0.8936345]], dtype=float32)"
      ]
     },
     "execution_count": 32,
     "metadata": {},
     "output_type": "execute_result"
    }
   ],
   "source": [
    "img = np.array(Image.open('data/car_test_data/car/103.jpg').convert('RGB').resize((128,128))).reshape(1,128,128,3)*1/255\n",
    "model.predict(img)"
   ]
  },
  {
   "cell_type": "code",
   "execution_count": null,
   "metadata": {},
   "outputs": [],
   "source": []
  }
 ],
 "metadata": {
  "kernelspec": {
   "display_name": "venv",
   "language": "python",
   "name": "venv"
  },
  "language_info": {
   "codemirror_mode": {
    "name": "ipython",
    "version": 3
   },
   "file_extension": ".py",
   "mimetype": "text/x-python",
   "name": "python",
   "nbconvert_exporter": "python",
   "pygments_lexer": "ipython3",
   "version": "3.6.15"
  },
  "pycharm": {
   "stem_cell": {
    "cell_type": "raw",
    "metadata": {
     "collapsed": false
    },
    "source": []
   }
  }
 },
 "nbformat": 4,
 "nbformat_minor": 2
}
